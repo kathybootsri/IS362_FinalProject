{
 "cells": [
  {
   "cell_type": "markdown",
   "metadata": {},
   "source": [
    "# What demographics and performance indicators show a need for additional support to increase graduation rates?"
   ]
  },
  {
   "cell_type": "markdown",
   "metadata": {},
   "source": [
    "## Certain subsets of demographics show that they have higher graduation rates, in such subsets a race, English language proficiency, disability and gender. Other observational factors are performance indicators, such as whether or not the subset took Advanced Regents or Regents. By understanding which subsets require further assistance, we can begin the process of providing additional support within the population for subsets in need to increase their graduation rates. "
   ]
  },
  {
   "cell_type": "markdown",
   "metadata": {},
   "source": [
    "### Step 1: Ingest Raw Data CVS File (Data Source #1: https://data.cityofnewyork.us/Education/2017-2018-Graduation-Outcomes-School/kybe-9iex, Loaded Into GitHub)"
   ]
  },
  {
   "cell_type": "code",
   "execution_count": 1,
   "metadata": {},
   "outputs": [
    {
     "name": "stdout",
     "output_type": "stream",
     "text": [
      "      DBN                 School Name Demographic Category  \\\n",
      "0  01M292  ORCHARD COLLEGIATE ACADEMY         All Students   \n",
      "1  01M292  ORCHARD COLLEGIATE ACADEMY         All Students   \n",
      "2  01M292  ORCHARD COLLEGIATE ACADEMY         All Students   \n",
      "3  01M292  ORCHARD COLLEGIATE ACADEMY         All Students   \n",
      "4  01M292  ORCHARD COLLEGIATE ACADEMY         All Students   \n",
      "\n",
      "  Demographic Variable  Cohort Year         Cohort Total Cohort #  \\\n",
      "0         All Students         2011  4 year August             73   \n",
      "1         All Students         2011    4 year June             73   \n",
      "2         All Students         2011  5 year August             68   \n",
      "3         All Students         2011    5 year June             68   \n",
      "4         All Students         2011    6 year June             68   \n",
      "\n",
      "  Total Grads # Total Grads % of cohort Total Regents #  ...  \\\n",
      "0            46                      63              41  ...   \n",
      "1            46                      63              41  ...   \n",
      "2            48                    70.6              42  ...   \n",
      "3            48                    70.6              42  ...   \n",
      "4            49                    72.1              42  ...   \n",
      "\n",
      "  Regents w/o Advanced # Regents w/o Advanced % of cohort  \\\n",
      "0                     41                             56.2   \n",
      "1                     41                             56.2   \n",
      "2                     42                             61.8   \n",
      "3                     42                             61.8   \n",
      "4                     42                             61.8   \n",
      "\n",
      "  Regents w/o Advanced % of grads Local # Local % of cohort Local % of grads  \\\n",
      "0                            89.1       5               6.8             10.9   \n",
      "1                            89.1       5               6.8             10.9   \n",
      "2                            87.5       6               8.8             12.5   \n",
      "3                            87.5       6               8.8             12.5   \n",
      "4                            85.7       7              10.3             14.3   \n",
      "\n",
      "  Still Enrolled # Still Enrolled % of cohort Dropped Out #  \\\n",
      "0               18                       24.7             7   \n",
      "1               18                       24.7             7   \n",
      "2                6                        8.8            14   \n",
      "3                6                        8.8            14   \n",
      "4                5                        7.4            14   \n",
      "\n",
      "  Dropped Out % of cohort  \n",
      "0                     9.6  \n",
      "1                     9.6  \n",
      "2                    20.6  \n",
      "3                    20.6  \n",
      "4                    20.6  \n",
      "\n",
      "[5 rows x 25 columns]\n"
     ]
    }
   ],
   "source": [
    "import pandas as pd\n",
    "import seaborn as sns\n",
    "import numpy as np\n",
    "import matplotlib.pyplot as plt\n",
    "\n",
    "df = pd.read_csv('https://raw.githubusercontent.com/kathybootsri/IS362_FinalProject/master/2017_-_2018_Graduation_Outcomes_School%20(1).csv')\n",
    "\n",
    "print(df.head())"
   ]
  },
  {
   "cell_type": "code",
   "execution_count": 2,
   "metadata": {},
   "outputs": [],
   "source": [
    "df[['Total Cohort #', 'Total Grads #', 'Total Grads % of cohort', 'Total Regents #', 'Total Regents % of cohort', 'Total Regents % of grads', 'Advanced Regents #', 'Advanced Regents % of cohort', 'Advanced Regents % of grads', 'Regents w/o Advanced #', 'Regents w/o Advanced % of cohort', 'Regents w/o Advanced % of grads', 'Local #', 'Local % of cohort', 'Local % of grads', 'Still Enrolled #', 'Still Enrolled % of cohort', 'Dropped Out #', 'Dropped Out % of cohort']] = df[['Total Cohort #', 'Total Grads #', 'Total Grads % of cohort', 'Total Regents #', 'Total Regents % of cohort', 'Total Regents % of grads', 'Advanced Regents #', 'Advanced Regents % of cohort', 'Advanced Regents % of grads', 'Regents w/o Advanced #', 'Regents w/o Advanced % of cohort', 'Regents w/o Advanced % of grads', 'Local #', 'Local % of cohort', 'Local % of grads', 'Still Enrolled #', 'Still Enrolled % of cohort', 'Dropped Out #', 'Dropped Out % of cohort']].apply(pd.to_numeric, errors='coerce').dropna()"
   ]
  },
  {
   "cell_type": "code",
   "execution_count": 3,
   "metadata": {},
   "outputs": [
    {
     "name": "stdout",
     "output_type": "stream",
     "text": [
      "DBN\n",
      "School Name\n",
      "Demographic Category\n",
      "Demographic Variable\n",
      "Cohort Year\n",
      "Cohort\n",
      "Total Cohort #\n",
      "Total Grads #\n",
      "Total Grads % of cohort\n",
      "Total Regents #\n",
      "Total Regents % of cohort\n",
      "Total Regents % of grads\n",
      "Advanced Regents #\n",
      "Advanced Regents % of cohort\n",
      "Advanced Regents % of grads\n",
      "Regents w/o Advanced #\n",
      "Regents w/o Advanced % of cohort\n",
      "Regents w/o Advanced % of grads\n",
      "Local #\n",
      "Local % of cohort\n",
      "Local % of grads\n",
      "Still Enrolled #\n",
      "Still Enrolled % of cohort\n",
      "Dropped Out #\n",
      "Dropped Out % of cohort\n"
     ]
    }
   ],
   "source": [
    "for col in df:\n",
    "    print(col)"
   ]
  },
  {
   "cell_type": "code",
   "execution_count": 4,
   "metadata": {},
   "outputs": [
    {
     "data": {
      "text/html": [
       "<div>\n",
       "<style scoped>\n",
       "    .dataframe tbody tr th:only-of-type {\n",
       "        vertical-align: middle;\n",
       "    }\n",
       "\n",
       "    .dataframe tbody tr th {\n",
       "        vertical-align: top;\n",
       "    }\n",
       "\n",
       "    .dataframe thead th {\n",
       "        text-align: right;\n",
       "    }\n",
       "</style>\n",
       "<table border=\"1\" class=\"dataframe\">\n",
       "  <thead>\n",
       "    <tr style=\"text-align: right;\">\n",
       "      <th></th>\n",
       "      <th>Cohort Year</th>\n",
       "      <th>Total Cohort #</th>\n",
       "      <th>Total Grads #</th>\n",
       "      <th>Total Grads % of cohort</th>\n",
       "      <th>Total Regents #</th>\n",
       "      <th>Total Regents % of cohort</th>\n",
       "      <th>Total Regents % of grads</th>\n",
       "      <th>Advanced Regents #</th>\n",
       "      <th>Advanced Regents % of cohort</th>\n",
       "      <th>Advanced Regents % of grads</th>\n",
       "      <th>Regents w/o Advanced #</th>\n",
       "      <th>Regents w/o Advanced % of cohort</th>\n",
       "      <th>Regents w/o Advanced % of grads</th>\n",
       "      <th>Local #</th>\n",
       "      <th>Local % of cohort</th>\n",
       "      <th>Local % of grads</th>\n",
       "      <th>Still Enrolled #</th>\n",
       "      <th>Still Enrolled % of cohort</th>\n",
       "      <th>Dropped Out #</th>\n",
       "      <th>Dropped Out % of cohort</th>\n",
       "    </tr>\n",
       "  </thead>\n",
       "  <tbody>\n",
       "    <tr>\n",
       "      <th>count</th>\n",
       "      <td>181016.000000</td>\n",
       "      <td>124399.000000</td>\n",
       "      <td>124399.000000</td>\n",
       "      <td>124399.000000</td>\n",
       "      <td>124399.000000</td>\n",
       "      <td>124399.000000</td>\n",
       "      <td>124399.000000</td>\n",
       "      <td>124399.000000</td>\n",
       "      <td>124399.000000</td>\n",
       "      <td>124399.000000</td>\n",
       "      <td>124399.000000</td>\n",
       "      <td>124399.000000</td>\n",
       "      <td>124399.000000</td>\n",
       "      <td>124399.000000</td>\n",
       "      <td>124399.000000</td>\n",
       "      <td>124399.000000</td>\n",
       "      <td>124399.000000</td>\n",
       "      <td>124399.000000</td>\n",
       "      <td>124399.000000</td>\n",
       "      <td>124399.000000</td>\n",
       "    </tr>\n",
       "    <tr>\n",
       "      <th>mean</th>\n",
       "      <td>2012.233521</td>\n",
       "      <td>67.615190</td>\n",
       "      <td>52.186408</td>\n",
       "      <td>73.568792</td>\n",
       "      <td>48.332639</td>\n",
       "      <td>65.884614</td>\n",
       "      <td>87.458931</td>\n",
       "      <td>12.951824</td>\n",
       "      <td>12.065921</td>\n",
       "      <td>13.416856</td>\n",
       "      <td>35.380815</td>\n",
       "      <td>53.819274</td>\n",
       "      <td>74.042677</td>\n",
       "      <td>3.853769</td>\n",
       "      <td>7.684672</td>\n",
       "      <td>12.542254</td>\n",
       "      <td>7.638301</td>\n",
       "      <td>13.004990</td>\n",
       "      <td>6.854235</td>\n",
       "      <td>11.904240</td>\n",
       "    </tr>\n",
       "    <tr>\n",
       "      <th>std</th>\n",
       "      <td>1.013768</td>\n",
       "      <td>100.500325</td>\n",
       "      <td>86.973893</td>\n",
       "      <td>23.030407</td>\n",
       "      <td>84.032435</td>\n",
       "      <td>25.953180</td>\n",
       "      <td>17.857672</td>\n",
       "      <td>47.348574</td>\n",
       "      <td>21.101583</td>\n",
       "      <td>21.980034</td>\n",
       "      <td>51.655165</td>\n",
       "      <td>23.499040</td>\n",
       "      <td>23.675929</td>\n",
       "      <td>6.048423</td>\n",
       "      <td>9.890048</td>\n",
       "      <td>17.857870</td>\n",
       "      <td>13.858590</td>\n",
       "      <td>15.990877</td>\n",
       "      <td>11.936322</td>\n",
       "      <td>12.680019</td>\n",
       "    </tr>\n",
       "    <tr>\n",
       "      <th>min</th>\n",
       "      <td>2011.000000</td>\n",
       "      <td>5.000000</td>\n",
       "      <td>1.000000</td>\n",
       "      <td>1.300000</td>\n",
       "      <td>0.000000</td>\n",
       "      <td>0.000000</td>\n",
       "      <td>0.000000</td>\n",
       "      <td>0.000000</td>\n",
       "      <td>0.000000</td>\n",
       "      <td>0.000000</td>\n",
       "      <td>0.000000</td>\n",
       "      <td>0.000000</td>\n",
       "      <td>0.000000</td>\n",
       "      <td>0.000000</td>\n",
       "      <td>0.000000</td>\n",
       "      <td>0.000000</td>\n",
       "      <td>0.000000</td>\n",
       "      <td>0.000000</td>\n",
       "      <td>0.000000</td>\n",
       "      <td>0.000000</td>\n",
       "    </tr>\n",
       "    <tr>\n",
       "      <th>25%</th>\n",
       "      <td>2011.000000</td>\n",
       "      <td>17.000000</td>\n",
       "      <td>11.000000</td>\n",
       "      <td>61.500000</td>\n",
       "      <td>9.000000</td>\n",
       "      <td>50.000000</td>\n",
       "      <td>83.300000</td>\n",
       "      <td>0.000000</td>\n",
       "      <td>0.000000</td>\n",
       "      <td>0.000000</td>\n",
       "      <td>7.000000</td>\n",
       "      <td>40.000000</td>\n",
       "      <td>64.400000</td>\n",
       "      <td>0.000000</td>\n",
       "      <td>0.000000</td>\n",
       "      <td>0.000000</td>\n",
       "      <td>1.000000</td>\n",
       "      <td>1.000000</td>\n",
       "      <td>1.000000</td>\n",
       "      <td>1.300000</td>\n",
       "    </tr>\n",
       "    <tr>\n",
       "      <th>50%</th>\n",
       "      <td>2012.000000</td>\n",
       "      <td>40.000000</td>\n",
       "      <td>27.000000</td>\n",
       "      <td>78.800000</td>\n",
       "      <td>24.000000</td>\n",
       "      <td>70.100000</td>\n",
       "      <td>93.300000</td>\n",
       "      <td>1.000000</td>\n",
       "      <td>1.400000</td>\n",
       "      <td>2.100000</td>\n",
       "      <td>20.000000</td>\n",
       "      <td>57.100000</td>\n",
       "      <td>80.000000</td>\n",
       "      <td>2.000000</td>\n",
       "      <td>4.700000</td>\n",
       "      <td>6.700000</td>\n",
       "      <td>3.000000</td>\n",
       "      <td>7.600000</td>\n",
       "      <td>3.000000</td>\n",
       "      <td>8.600000</td>\n",
       "    </tr>\n",
       "    <tr>\n",
       "      <th>75%</th>\n",
       "      <td>2013.000000</td>\n",
       "      <td>77.000000</td>\n",
       "      <td>58.000000</td>\n",
       "      <td>91.800000</td>\n",
       "      <td>52.000000</td>\n",
       "      <td>86.700000</td>\n",
       "      <td>100.000000</td>\n",
       "      <td>6.000000</td>\n",
       "      <td>15.000000</td>\n",
       "      <td>18.000000</td>\n",
       "      <td>44.000000</td>\n",
       "      <td>70.000000</td>\n",
       "      <td>90.900000</td>\n",
       "      <td>5.000000</td>\n",
       "      <td>11.100000</td>\n",
       "      <td>16.700000</td>\n",
       "      <td>9.000000</td>\n",
       "      <td>18.500000</td>\n",
       "      <td>8.000000</td>\n",
       "      <td>17.900000</td>\n",
       "    </tr>\n",
       "    <tr>\n",
       "      <th>max</th>\n",
       "      <td>2014.000000</td>\n",
       "      <td>994.000000</td>\n",
       "      <td>954.000000</td>\n",
       "      <td>100.000000</td>\n",
       "      <td>946.000000</td>\n",
       "      <td>100.000000</td>\n",
       "      <td>100.000000</td>\n",
       "      <td>818.000000</td>\n",
       "      <td>100.000000</td>\n",
       "      <td>100.000000</td>\n",
       "      <td>595.000000</td>\n",
       "      <td>100.000000</td>\n",
       "      <td>100.000000</td>\n",
       "      <td>97.000000</td>\n",
       "      <td>91.700000</td>\n",
       "      <td>100.000000</td>\n",
       "      <td>253.000000</td>\n",
       "      <td>94.400000</td>\n",
       "      <td>271.000000</td>\n",
       "      <td>93.300000</td>\n",
       "    </tr>\n",
       "  </tbody>\n",
       "</table>\n",
       "</div>"
      ],
      "text/plain": [
       "         Cohort Year  Total Cohort #  Total Grads #  Total Grads % of cohort  \\\n",
       "count  181016.000000   124399.000000  124399.000000            124399.000000   \n",
       "mean     2012.233521       67.615190      52.186408                73.568792   \n",
       "std         1.013768      100.500325      86.973893                23.030407   \n",
       "min      2011.000000        5.000000       1.000000                 1.300000   \n",
       "25%      2011.000000       17.000000      11.000000                61.500000   \n",
       "50%      2012.000000       40.000000      27.000000                78.800000   \n",
       "75%      2013.000000       77.000000      58.000000                91.800000   \n",
       "max      2014.000000      994.000000     954.000000               100.000000   \n",
       "\n",
       "       Total Regents #  Total Regents % of cohort  Total Regents % of grads  \\\n",
       "count    124399.000000              124399.000000             124399.000000   \n",
       "mean         48.332639                  65.884614                 87.458931   \n",
       "std          84.032435                  25.953180                 17.857672   \n",
       "min           0.000000                   0.000000                  0.000000   \n",
       "25%           9.000000                  50.000000                 83.300000   \n",
       "50%          24.000000                  70.100000                 93.300000   \n",
       "75%          52.000000                  86.700000                100.000000   \n",
       "max         946.000000                 100.000000                100.000000   \n",
       "\n",
       "       Advanced Regents #  Advanced Regents % of cohort  \\\n",
       "count       124399.000000                 124399.000000   \n",
       "mean            12.951824                     12.065921   \n",
       "std             47.348574                     21.101583   \n",
       "min              0.000000                      0.000000   \n",
       "25%              0.000000                      0.000000   \n",
       "50%              1.000000                      1.400000   \n",
       "75%              6.000000                     15.000000   \n",
       "max            818.000000                    100.000000   \n",
       "\n",
       "       Advanced Regents % of grads  Regents w/o Advanced #  \\\n",
       "count                124399.000000           124399.000000   \n",
       "mean                     13.416856               35.380815   \n",
       "std                      21.980034               51.655165   \n",
       "min                       0.000000                0.000000   \n",
       "25%                       0.000000                7.000000   \n",
       "50%                       2.100000               20.000000   \n",
       "75%                      18.000000               44.000000   \n",
       "max                     100.000000              595.000000   \n",
       "\n",
       "       Regents w/o Advanced % of cohort  Regents w/o Advanced % of grads  \\\n",
       "count                     124399.000000                    124399.000000   \n",
       "mean                          53.819274                        74.042677   \n",
       "std                           23.499040                        23.675929   \n",
       "min                            0.000000                         0.000000   \n",
       "25%                           40.000000                        64.400000   \n",
       "50%                           57.100000                        80.000000   \n",
       "75%                           70.000000                        90.900000   \n",
       "max                          100.000000                       100.000000   \n",
       "\n",
       "             Local #  Local % of cohort  Local % of grads  Still Enrolled #  \\\n",
       "count  124399.000000      124399.000000     124399.000000     124399.000000   \n",
       "mean        3.853769           7.684672         12.542254          7.638301   \n",
       "std         6.048423           9.890048         17.857870         13.858590   \n",
       "min         0.000000           0.000000          0.000000          0.000000   \n",
       "25%         0.000000           0.000000          0.000000          1.000000   \n",
       "50%         2.000000           4.700000          6.700000          3.000000   \n",
       "75%         5.000000          11.100000         16.700000          9.000000   \n",
       "max        97.000000          91.700000        100.000000        253.000000   \n",
       "\n",
       "       Still Enrolled % of cohort  Dropped Out #  Dropped Out % of cohort  \n",
       "count               124399.000000  124399.000000            124399.000000  \n",
       "mean                    13.004990       6.854235                11.904240  \n",
       "std                     15.990877      11.936322                12.680019  \n",
       "min                      0.000000       0.000000                 0.000000  \n",
       "25%                      1.000000       1.000000                 1.300000  \n",
       "50%                      7.600000       3.000000                 8.600000  \n",
       "75%                     18.500000       8.000000                17.900000  \n",
       "max                     94.400000     271.000000                93.300000  "
      ]
     },
     "execution_count": 4,
     "metadata": {},
     "output_type": "execute_result"
    }
   ],
   "source": [
    "df.describe()"
   ]
  },
  {
   "cell_type": "markdown",
   "metadata": {},
   "source": [
    "### Basic Information About Raw Data:"
   ]
  },
  {
   "cell_type": "code",
   "execution_count": 5,
   "metadata": {},
   "outputs": [
    {
     "name": "stdout",
     "output_type": "stream",
     "text": [
      "\n",
      "Total Count of Students in Raw Data: 506170\n"
     ]
    }
   ],
   "source": [
    "df_all_students = df[df['Demographic Variable'] == 'All Students']\n",
    "\n",
    "df_all_students = df_all_students[['DBN', 'Cohort Year', 'Cohort', 'Demographic Variable', 'Total Cohort #']].drop_duplicates(subset = ['DBN', 'Cohort Year', 'Demographic Variable', 'Total Cohort #'])\n",
    "\n",
    "df_all_students.dropna(inplace = True)\n",
    "\n",
    "total_student_count = sum(df_all_students['Total Cohort #'])\n",
    "\n",
    "print('\\nTotal Count of Students in Raw Data: {0}'.format(int(total_student_count)))"
   ]
  },
  {
   "cell_type": "code",
   "execution_count": 6,
   "metadata": {},
   "outputs": [
    {
     "name": "stdout",
     "output_type": "stream",
     "text": [
      "Columns with Percentages and Column Categories:\n",
      "\n",
      "Total Grads % of cohort\n",
      "Total Regents % of cohort\n",
      "Total Regents % of grads\n",
      "Advanced Regents % of cohort\n",
      "Advanced Regents % of grads\n",
      "Regents w/o Advanced % of cohort\n",
      "Regents w/o Advanced % of grads\n",
      "Local % of cohort\n",
      "Local % of grads\n",
      "Still Enrolled % of cohort\n",
      "Dropped Out % of cohort\n"
     ]
    }
   ],
   "source": [
    "df_cols_perc = df.filter(regex=(\"%.*\"))\n",
    "\n",
    "print('Columns with Percentages and Column Categories:\\n')\n",
    "for col in df_cols_perc:\n",
    "    print(col)"
   ]
  },
  {
   "cell_type": "code",
   "execution_count": 7,
   "metadata": {},
   "outputs": [
    {
     "data": {
      "text/plain": [
       "array(['All Students', 'Current ELL', 'ELL', 'Ever ELL', 'Former ELL',\n",
       "       'Never ELL', 'Not ELL', 'Asian', 'Black', 'Hispanic',\n",
       "       'Multi-Racial', 'Native American', 'Female', 'Male',\n",
       "       'Female Black', 'Female Hispanic', 'Female Multi-Racial',\n",
       "       'Male Asian', 'Male Black', 'Male Hispanic', 'Male Multi-Racial',\n",
       "       'Male Native American', 'Econ Disadv', 'Not Econ Disadv',\n",
       "       'Not SWD', 'SWD', 'White', 'Female Asian', 'Female White',\n",
       "       'Male White', 'Female Native American'], dtype=object)"
      ]
     },
     "execution_count": 7,
     "metadata": {},
     "output_type": "execute_result"
    }
   ],
   "source": [
    "df['Demographic Variable'].unique()"
   ]
  },
  {
   "cell_type": "markdown",
   "metadata": {},
   "source": [
    "### Observations by Gender"
   ]
  },
  {
   "cell_type": "code",
   "execution_count": 8,
   "metadata": {},
   "outputs": [
    {
     "name": "stdout",
     "output_type": "stream",
     "text": [
      "                      Total Grads % of cohort\n",
      "Demographic Variable                         \n",
      "Male                                69.971431\n",
      "Female                              77.448473\n"
     ]
    },
    {
     "data": {
      "image/png": "[encoded data removed]",
      "text/plain": [
       "<Figure size 432x288 with 1 Axes>"
      ]
     },
     "metadata": {},
     "output_type": "display_data"
    }
   ],
   "source": [
    "gender = ['Male', 'Female']\n",
    "\n",
    "df_gender = df[df['Demographic Variable'].isin(gender)]\n",
    "df_gender = df_gender[['Cohort Year', 'Cohort', 'Demographic Variable', 'Total Grads % of cohort']]\n",
    "\n",
    "avg_by_gender = df_gender.pivot_table(values=['Total Grads % of cohort'], index=['Demographic Variable'],  aggfunc=np.mean).sort_values(by = 'Total Grads % of cohort')\n",
    "\n",
    "print(avg_by_gender)\n",
    "sns.set(style=\"whitegrid\")\n",
    "\n",
    "g = sns.barplot(x=avg_by_gender.index, y = 'Total Grads % of cohort', data=avg_by_gender).set_ylim(0, 100)"
   ]
  },
  {
   "cell_type": "markdown",
   "metadata": {},
   "source": [
    "### Observations by Race"
   ]
  },
  {
   "cell_type": "code",
   "execution_count": 9,
   "metadata": {},
   "outputs": [
    {
     "name": "stdout",
     "output_type": "stream",
     "text": [
      "                      Total Grads % of cohort\n",
      "Demographic Variable                         \n",
      "Hispanic                            71.610837\n",
      "Black                               74.595178\n",
      "White                               84.448292\n",
      "Asian                               86.969204\n"
     ]
    },
    {
     "data": {
      "image/png": "[encoded data removed]",
      "text/plain": [
       "<Figure size 432x288 with 1 Axes>"
      ]
     },
     "metadata": {},
     "output_type": "display_data"
    }
   ],
   "source": [
    "race = ['Asian','Black', 'Hispanic', 'White']\n",
    "\n",
    "df_race = df[df['Demographic Variable'].isin(race)]\n",
    "df_race = df_race[['Cohort Year', 'Cohort', 'Demographic Variable', 'Total Grads % of cohort']]\n",
    "\n",
    "avg_by_race = df_race.pivot_table(values=['Total Grads % of cohort'], index=['Demographic Variable'],  aggfunc=np.mean).sort_values(by = 'Total Grads % of cohort')\n",
    "\n",
    "print(avg_by_race)\n",
    "\n",
    "sns.set(style=\"whitegrid\")\n",
    "\n",
    "g = sns.barplot(x=avg_by_race.index, y = 'Total Grads % of cohort', data=avg_by_race).set_ylim(0, 100)"
   ]
  },
  {
   "cell_type": "markdown",
   "metadata": {},
   "source": [
    "### Observations by English Language Profiency"
   ]
  },
  {
   "cell_type": "code",
   "execution_count": 10,
   "metadata": {},
   "outputs": [
    {
     "name": "stdout",
     "output_type": "stream",
     "text": [
      "                      Total Grads % of cohort\n",
      "Demographic Variable                         \n",
      "ELL                                 42.033836\n",
      "Not ELL                             75.800587\n"
     ]
    },
    {
     "data": {
      "image/png": "[encoded data removed]",
      "text/plain": [
       "<Figure size 432x288 with 1 Axes>"
      ]
     },
     "metadata": {},
     "output_type": "display_data"
    }
   ],
   "source": [
    "eng_proficiency = ['ELL','Not ELL']\n",
    "\n",
    "df_language = df[df['Demographic Variable'].isin(eng_proficiency)]\n",
    "df_language = df_language[['Cohort Year', 'Cohort', 'Demographic Variable', 'Total Grads % of cohort']]\n",
    "\n",
    "avg_by_lang = df_language.pivot_table(values=['Total Grads % of cohort'], index=['Demographic Variable'],  aggfunc=np.mean).sort_values(by = 'Total Grads % of cohort')\n",
    "\n",
    "print(avg_by_lang)\n",
    "\n",
    "sns.set(style=\"whitegrid\")\n",
    "\n",
    "g = sns.barplot(x=avg_by_lang.index, y = 'Total Grads % of cohort', data=avg_by_lang).set_ylim(0, 100)"
   ]
  },
  {
   "cell_type": "markdown",
   "metadata": {},
   "source": [
    "### Observations by Disability"
   ]
  },
  {
   "cell_type": "code",
   "execution_count": 11,
   "metadata": {},
   "outputs": [
    {
     "name": "stdout",
     "output_type": "stream",
     "text": [
      "                      Total Grads % of cohort\n",
      "Demographic Variable                         \n",
      "SWD                                 59.566819\n",
      "Not SWD                             76.432135\n"
     ]
    },
    {
     "data": {
      "image/png": "[encoded data removed]",
      "text/plain": [
       "<Figure size 432x288 with 1 Axes>"
      ]
     },
     "metadata": {},
     "output_type": "display_data"
    }
   ],
   "source": [
    "gender = ['SWD', 'Not SWD']\n",
    "\n",
    "df_disability = df[df['Demographic Variable'].isin(gender)]\n",
    "df_disability = df_disability[['Cohort Year', 'Cohort', 'Demographic Variable', 'Total Grads % of cohort']]\n",
    "\n",
    "avg_by_disability = df_disability.pivot_table(values=['Total Grads % of cohort'], index=['Demographic Variable'],  aggfunc=np.mean).sort_values(by = 'Total Grads % of cohort')\n",
    "\n",
    "print(avg_by_disability)\n",
    "sns.set(style=\"whitegrid\")\n",
    "\n",
    "g = sns.barplot(x=avg_by_disability.index, y = 'Total Grads % of cohort', data=avg_by_disability).set_ylim(0, 100)"
   ]
  },
  {
   "cell_type": "markdown",
   "metadata": {},
   "source": [
    "### Observation by Economically Disadvantaged"
   ]
  },
  {
   "cell_type": "code",
   "execution_count": 12,
   "metadata": {},
   "outputs": [
    {
     "name": "stdout",
     "output_type": "stream",
     "text": [
      "                      Total Grads % of cohort\n",
      "Demographic Variable                         \n",
      "Not Econ Disadv                     71.528255\n",
      "Econ Disadv                         74.411246\n"
     ]
    },
    {
     "data": {
      "image/png": "[encoded data removed]",
      "text/plain": [
       "<Figure size 432x288 with 1 Axes>"
      ]
     },
     "metadata": {},
     "output_type": "display_data"
    }
   ],
   "source": [
    "gender = ['Econ Disadv', 'Not Econ Disadv']\n",
    "\n",
    "df_econ = df[df['Demographic Variable'].isin(gender)]\n",
    "df_econ = df_econ[['Cohort Year', 'Cohort', 'Demographic Variable', 'Total Grads % of cohort']]\n",
    "\n",
    "avg_by_econ = df_econ.pivot_table(values=['Total Grads % of cohort'], index=['Demographic Variable'],  aggfunc=np.mean).sort_values(by = 'Total Grads % of cohort')\n",
    "\n",
    "print(avg_by_econ)\n",
    "sns.set(style=\"whitegrid\")\n",
    "\n",
    "g = sns.barplot(x=avg_by_econ.index, y = 'Total Grads % of cohort', data=avg_by_econ).set_ylim(0, 100)"
   ]
  },
  {
   "cell_type": "markdown",
   "metadata": {},
   "source": [
    "### Final Observations: All Demographics"
   ]
  },
  {
   "cell_type": "code",
   "execution_count": 13,
   "metadata": {},
   "outputs": [
    {
     "name": "stdout",
     "output_type": "stream",
     "text": [
      "                        Total Grads % of cohort\n",
      "Demographic Variable                           \n",
      "Current ELL                           39.373546\n",
      "ELL                                   42.033836\n",
      "SWD                                   59.566819\n",
      "Male Native American                  63.790909\n",
      "Male Hispanic                         67.941492\n",
      "Male Black                            69.868328\n",
      "Male                                  69.971431\n",
      "Not Econ Disadv                       71.528255\n",
      "Hispanic                              71.610837\n",
      "Native American                       72.880000\n",
      "All Students                          73.612232\n",
      "Female Native American                73.656410\n",
      "Econ Disadv                           74.411246\n",
      "Black                                 74.595178\n",
      "Never ELL                             74.759590\n",
      "Female Hispanic                       75.495425\n",
      "Not ELL                               75.800587\n",
      "Not SWD                               76.432135\n",
      "Female                                77.448473\n",
      "Female Black                          78.041377\n",
      "Ever ELL                              82.203528\n",
      "Male White                            83.116055\n",
      "White                                 84.448292\n",
      "Former ELL                            84.478605\n",
      "Male Asian                            84.833418\n",
      "Asian                                 86.969204\n",
      "Female White                          89.113125\n",
      "Female Asian                          91.042028\n",
      "Multi-Racial                          94.267559\n",
      "Male Multi-Racial                     94.703226\n",
      "Female Multi-Racial                   95.623316\n"
     ]
    },
    {
     "data": {
      "image/png": "[encoded data removed]",
      "text/plain": [
       "<Figure size 1440x288 with 1 Axes>"
      ]
     },
     "metadata": {},
     "output_type": "display_data"
    }
   ],
   "source": [
    "df_all_subsets = df[['Cohort Year', 'Cohort', 'Demographic Variable', 'Total Grads % of cohort']]\n",
    "\n",
    "avg__all_subsets = df_all_subsets.pivot_table(values=['Total Grads % of cohort'], index=['Demographic Variable'],  aggfunc=np.mean).sort_values(by = 'Total Grads % of cohort')\n",
    "\n",
    "print(avg__all_subsets)\n",
    "sns.set(style=\"whitegrid\")\n",
    "plt.figure(figsize=(20,4))\n",
    "plt.xticks(rotation=45)\n",
    "g = sns.barplot(x=avg__all_subsets.index, y = 'Total Grads % of cohort', data=avg__all_subsets).set_ylim(0, 100)"
   ]
  },
  {
   "cell_type": "markdown",
   "metadata": {},
   "source": [
    "### Datasource Two: Relationship PostgreSql Database - Unemployment Rate by Race (Data Source: https://catalog.data.gov/dataset/labor-force-status-by-race-and-ethnicity-beginning-2012/resource/aa0e3b52-d2ca-477b-83c0-626a6627e8f3?inner_span=True)"
   ]
  },
  {
   "cell_type": "code",
   "execution_count": 14,
   "metadata": {},
   "outputs": [
    {
     "name": "stdout",
     "output_type": "stream",
     "text": [
      "Connecting to Database\n",
      "Truncated unemployment_rates\n",
      "Loaded data into unemployment_rates\n",
      "DB connection closed.\n"
     ]
    }
   ],
   "source": [
    "import psycopg2\n",
    "import pandas as pd\n",
    "\n",
    "# Execution Example\n",
    "file_path = 'C:\\\\Users\\\\kathy\\\\Downloads\\\\Labor_Force_Status_by_Race_and_Ethnicity__Beginning_2012.csv'\n",
    "table_name = 'unemployment_rates'\n",
    "\n",
    "conn = psycopg2.connect(user = \"zowglzqx\",\n",
    "                      password = \"HinwKUQSD2t_10zuQK5Tln-us-7N9JsI\",\n",
    "                      host = \"drona.db.elephantsql.com\",\n",
    "                      database = \"zowglzqx\")\n",
    "print(\"Connecting to Database\")\n",
    "cur = conn.cursor()\n",
    "f = open(file_path, \"r\")\n",
    "\n",
    "#Create Table First\n",
    "cur.execute(\"\"\"    \n",
    "DROP TABLE IF EXISTS unemployment_rates;\n",
    "CREATE TABLE unemployment_rates (\n",
    "Year\tINTEGER,\n",
    "Region\tTEXT,\n",
    "Total_Population_16_Years_and_Older\tINTEGER,\n",
    "Total_Civilian_Labor_Force\tINTEGER,\n",
    "Total_Unemployed\tINTEGER,\n",
    "Total_Unemployment_Rate\tDECIMAL,\n",
    "White_Alone_Population_16_Years_and_Older\tINTEGER,\n",
    "White_Alone_Civilian_Labor_Force\tINTEGER,\n",
    "White_Alone_Unemployed\tINTEGER,\n",
    "White_Alone_Unemployment_Rate\tDECIMAL,\n",
    "Black_or_African_American_Alone_Population_16_Years_and_Older\tINTEGER,\n",
    "Black_or_African_American_Alone_Civilian_Labor_Force\tINTEGER,\n",
    "Black_or_African_American_Alone_Unemployed\tINTEGER,\n",
    "Black_or_African_American_Alone_Unemployment_Rate\tDECIMAL,\n",
    "Asian_Alone_Population_16_Years_and_Older\tINTEGER,\n",
    "Asian_Alone_Civilian_Labor_Force\tINTEGER,\n",
    "Asian_Alone_Unemployed\tINTEGER,\n",
    "Asian_Alone_Unemployment_Rate\tDECIMAL,\n",
    "Hispanic_or_Latino_Population_16_Years_and_Older\tINTEGER,\n",
    "Hispanic_or_Latino_Civilian_Labor_Force\tINTEGER,\n",
    "Hispanic_or_Latino_Unemployed\tINTEGER,\n",
    "Hispanic_or_Latino_Unemployment_Rate\tDECIMAL);\n",
    "\"\"\")\n",
    "\n",
    "cur.execute(\"Truncate {} Cascade;\".format(table_name))\n",
    "print(\"Truncated {}\".format(table_name))\n",
    "# Load table from the file with header\n",
    "cur.copy_expert(\"copy {} from STDIN CSV HEADER QUOTE '\\\"'\".format(table_name), f)\n",
    "cur.execute(\"commit;\")\n",
    "\n",
    "script = \"SELECT * FROM unemployment_rates\"\n",
    "cur.execute(script)\n",
    "df_unemploy = cur.fetchall()\n",
    "print(\"Loaded data into {}\".format(table_name))\n",
    "conn.close()\n",
    "print(\"DB connection closed.\")"
   ]
  },
  {
   "cell_type": "code",
   "execution_count": 15,
   "metadata": {},
   "outputs": [
    {
     "name": "stdout",
     "output_type": "stream",
     "text": [
      "   Year           Region   Total Population 16 Years and Older  \\\n",
      "0  2018    Capital Region                               902653   \n",
      "1  2018  Central New York                               635080   \n",
      "2  2018      Finger Lakes                               983906   \n",
      "3  2018     Hudson Valley                              1866222   \n",
      "4  2018       Long Island                              2310386   \n",
      "\n",
      "   Total Civilian Labor Force  Total Unemployed Total Unemployment Rate  \\\n",
      "0                      570968             28886                    5.06   \n",
      "1                      383679             21164                    5.52   \n",
      "2                      614359             26671                    4.34   \n",
      "3                     1185852             56564                    4.77   \n",
      "4                     1489263             55032                     3.7   \n",
      "\n",
      "   White Alone Population 16 Years and Older  \\\n",
      "0                                     774921   \n",
      "1                                     552622   \n",
      "2                                     823449   \n",
      "3                                    1343491   \n",
      "4                                    1758161   \n",
      "\n",
      "   White Alone Civilian Labor Force  White Alone Unemployed  \\\n",
      "0                            489283                   21849   \n",
      "1                            339798                   15295   \n",
      "2                            518647                   17532   \n",
      "3                            837070                   35979   \n",
      "4                           1118514                   38137   \n",
      "\n",
      "  White Alone Unemployment Rate  ...  \\\n",
      "0                          4.47  ...   \n",
      "1                           4.5  ...   \n",
      "2                          3.38  ...   \n",
      "3                           4.3  ...   \n",
      "4                          3.41  ...   \n",
      "\n",
      "   Black or African American Alone Unemployed  \\\n",
      "0                                      3747.0   \n",
      "1                                      3504.0   \n",
      "2                                      7254.0   \n",
      "3                                     11687.0   \n",
      "4                                      9991.0   \n",
      "\n",
      "   Black or African American Alone Unemployment Rate  \\\n",
      "0                                               9.86   \n",
      "1                                              14.96   \n",
      "2                                              12.49   \n",
      "3                                               7.74   \n",
      "4                                               6.51   \n",
      "\n",
      "   Asian Alone Population 16 Years and Older Asian Alone Civilian Labor Force  \\\n",
      "0                                      36132                            24007   \n",
      "1                                      16890                             9001   \n",
      "2                                      25826                            15702   \n",
      "3                                      89492                            58310   \n",
      "4                                     160131                           103928   \n",
      "\n",
      "   Asian Alone Unemployed  Asian Alone Unemployment Rate  \\\n",
      "0                     NaN                              0   \n",
      "1                  1098.0                           12.2   \n",
      "2                     NaN                              0   \n",
      "3                  2585.0                           4.43   \n",
      "4                  2160.0                           2.08   \n",
      "\n",
      "   Hispanic or Latino Population 16 Years and Older  \\\n",
      "0                                             40541   \n",
      "1                                             22139   \n",
      "2                                             60024   \n",
      "3                                            341379   \n",
      "4                                            382009   \n",
      "\n",
      "  Hispanic or Latino Civilian Labor Force  Hispanic or Latino Unemployed  \\\n",
      "0                                   27918                         4036.0   \n",
      "1                                   12688                         1389.0   \n",
      "2                                   34669                         2531.0   \n",
      "3                                  233692                        10022.0   \n",
      "4                                  270307                         9157.0   \n",
      "\n",
      "   Hispanic or Latino Unemployment Rate  \n",
      "0                                 14.46  \n",
      "1                                 10.95  \n",
      "2                                   7.3  \n",
      "3                                  4.29  \n",
      "4                                  3.39  \n",
      "\n",
      "[5 rows x 22 columns]\n"
     ]
    }
   ],
   "source": [
    "headers = ['Year', 'Region ', 'Total Population 16 Years and Older', 'Total Civilian Labor Force', 'Total Unemployed', 'Total Unemployment Rate', 'White Alone Population 16 Years and Older', 'White Alone Civilian Labor Force', 'White Alone Unemployed', 'White Alone Unemployment Rate', 'Black or African American Alone Population 16 Years and Older', 'Black or African American Alone Civilian Labor Force', 'Black or African American Alone Unemployed', 'Black or African American Alone Unemployment Rate', 'Asian Alone Population 16 Years and Older', 'Asian Alone Civilian Labor Force', 'Asian Alone Unemployed', 'Asian Alone Unemployment Rate', 'Hispanic or Latino Population 16 Years and Older', 'Hispanic or Latino Civilian Labor Force', 'Hispanic or Latino Unemployed', 'Hispanic or Latino Unemployment Rate']\n",
    "df_unemploy = pd.DataFrame(df_unemploy, columns = headers)\n",
    "print(df_unemploy.head())"
   ]
  },
  {
   "cell_type": "code",
   "execution_count": 16,
   "metadata": {},
   "outputs": [
    {
     "name": "stdout",
     "output_type": "stream",
     "text": [
      "    Year Unemployment Rate      Race\n",
      "0   2015               5.5     White\n",
      "1   2014                 6     White\n",
      "2   2013                 7     White\n",
      "3   2012               7.5     White\n",
      "4   2015                11     Black\n",
      "5   2014              11.5     Black\n",
      "6   2013              13.6     Black\n",
      "7   2012              15.5     Black\n",
      "8   2015               6.4     Asian\n",
      "9   2014               6.2     Asian\n",
      "10  2013               7.4     Asian\n",
      "11  2012               9.3     Asian\n",
      "12  2015               9.1  Hispanic\n",
      "13  2014               9.2  Hispanic\n",
      "14  2013              12.3  Hispanic\n",
      "15  2012              12.7  Hispanic\n"
     ]
    },
    {
     "name": "stderr",
     "output_type": "stream",
     "text": [
      "C:\\Users\\kathy\\AppData\\Local\\Continuum\\anaconda3\\lib\\site-packages\\ipykernel_launcher.py:6: SettingWithCopyWarning: \n",
      "A value is trying to be set on a copy of a slice from a DataFrame.\n",
      "Try using .loc[row_indexer,col_indexer] = value instead\n",
      "\n",
      "See the caveats in the documentation: https://pandas.pydata.org/pandas-docs/stable/user_guide/indexing.html#returning-a-view-versus-a-copy\n",
      "  \n",
      "C:\\Users\\kathy\\AppData\\Local\\Continuum\\anaconda3\\lib\\site-packages\\ipykernel_launcher.py:10: SettingWithCopyWarning: \n",
      "A value is trying to be set on a copy of a slice from a DataFrame.\n",
      "Try using .loc[row_indexer,col_indexer] = value instead\n",
      "\n",
      "See the caveats in the documentation: https://pandas.pydata.org/pandas-docs/stable/user_guide/indexing.html#returning-a-view-versus-a-copy\n",
      "  # Remove the CWD from sys.path while we load stuff.\n",
      "C:\\Users\\kathy\\AppData\\Local\\Continuum\\anaconda3\\lib\\site-packages\\ipykernel_launcher.py:14: SettingWithCopyWarning: \n",
      "A value is trying to be set on a copy of a slice from a DataFrame.\n",
      "Try using .loc[row_indexer,col_indexer] = value instead\n",
      "\n",
      "See the caveats in the documentation: https://pandas.pydata.org/pandas-docs/stable/user_guide/indexing.html#returning-a-view-versus-a-copy\n",
      "  \n",
      "C:\\Users\\kathy\\AppData\\Local\\Continuum\\anaconda3\\lib\\site-packages\\ipykernel_launcher.py:18: SettingWithCopyWarning: \n",
      "A value is trying to be set on a copy of a slice from a DataFrame.\n",
      "Try using .loc[row_indexer,col_indexer] = value instead\n",
      "\n",
      "See the caveats in the documentation: https://pandas.pydata.org/pandas-docs/stable/user_guide/indexing.html#returning-a-view-versus-a-copy\n"
     ]
    }
   ],
   "source": [
    "nyc_df = df_unemploy[df_unemploy['Region '] == 'New York City']\n",
    "nyc_df = nyc_df[nyc_df['Year'].between(2012, 2015)]\n",
    "\n",
    "white_df = nyc_df[['Year', 'White Alone Unemployment Rate']]\n",
    "white_df.columns = ['Year', 'Unemployment Rate']\n",
    "white_df['Race'] = 'White'\n",
    "\n",
    "black_df = nyc_df[['Year', 'Black or African American Alone Unemployment Rate']]\n",
    "black_df.columns = ['Year', 'Unemployment Rate']\n",
    "black_df['Race'] = 'Black'\n",
    "\n",
    "asian_df = nyc_df[['Year', 'Asian Alone Unemployment Rate']]\n",
    "asian_df.columns = ['Year', 'Unemployment Rate']\n",
    "asian_df['Race'] = 'Asian'\n",
    "\n",
    "hispanic_df = nyc_df[['Year', 'Hispanic or Latino Unemployment Rate']]\n",
    "hispanic_df.columns = ['Year', 'Unemployment Rate']\n",
    "hispanic_df['Race'] = 'Hispanic'\n",
    "\n",
    "nyc_unemploy = white_df.append(black_df)\n",
    "\n",
    "nyc_unemploy = nyc_unemploy.append(asian_df)\n",
    "\n",
    "nyc_unemploy = nyc_unemploy.append(hispanic_df)\n",
    "\n",
    "nyc_unemploy.reset_index(inplace = True)\n",
    "\n",
    "nyc_unemploy.drop(columns=['index'], inplace = True)\n",
    "\n",
    "print(nyc_unemploy)"
   ]
  },
  {
   "cell_type": "code",
   "execution_count": 17,
   "metadata": {},
   "outputs": [
    {
     "name": "stdout",
     "output_type": "stream",
     "text": [
      "Year                  object\n",
      "Unemployment Rate    float32\n",
      "Race                  object\n",
      "dtype: object\n"
     ]
    }
   ],
   "source": [
    "nyc_unemploy['Unemployment Rate'] = pd.to_numeric(nyc_unemploy['Unemployment Rate'], downcast=\"float\")\n",
    "nyc_unemploy['Year'] = nyc_unemploy['Year'].astype(str, copy=False)\n",
    "print(nyc_unemploy.dtypes)"
   ]
  },
  {
   "cell_type": "code",
   "execution_count": 18,
   "metadata": {},
   "outputs": [
    {
     "data": {
      "image/png": "[encoded data removed]",
      "text/plain": [
       "<Figure size 432x288 with 1 Axes>"
      ]
     },
     "metadata": {},
     "output_type": "display_data"
    }
   ],
   "source": [
    "ax = sns.lineplot(x='Year', y='Unemployment Rate', hue = 'Race', data=nyc_unemploy)"
   ]
  },
  {
   "cell_type": "markdown",
   "metadata": {},
   "source": [
    "### Combining Graduation and School Performance with Unemployment Rates"
   ]
  },
  {
   "cell_type": "code",
   "execution_count": 26,
   "metadata": {},
   "outputs": [],
   "source": [
    "race = ['Asian','Black', 'Hispanic', 'White']\n",
    "df_grad_emp_race = df[df['Demographic Variable'].isin(race)]\n",
    "\n",
    "df_grad_emp_race = df_grad_emp_race[df_grad_emp_race['Cohort Year'].between(2012, 2015)]\n",
    "\n",
    "df_grad_emp_race = df_grad_emp_race[['DBN', 'Cohort Year', 'Demographic Variable', 'Total Grads % of cohort', 'Total Regents % of cohort', 'Advanced Regents % of cohort', 'Regents w/o Advanced % of cohort', 'Local % of cohort', 'Still Enrolled % of cohort', 'Dropped Out % of cohort']]\n",
    "\n",
    "final_df_race = df_grad_emp_race.groupby(['Cohort Year', 'Demographic Variable']).mean().reset_index()"
   ]
  },
  {
   "cell_type": "code",
   "execution_count": 36,
   "metadata": {},
   "outputs": [
    {
     "name": "stdout",
     "output_type": "stream",
     "text": [
      "   Cohort Year Demographic Variable  Total Grads % of cohort  \\\n",
      "0         2012                Asian                87.915298   \n",
      "1         2012                Black                75.382859   \n",
      "2         2012             Hispanic                72.961462   \n",
      "3         2012                White                83.223109   \n",
      "4         2013                Asian                86.902906   \n",
      "\n",
      "   Total Regents % of cohort  Advanced Regents % of cohort  \\\n",
      "0                  85.899888                     31.780540   \n",
      "1                  67.684232                      7.882197   \n",
      "2                  66.117750                      9.854390   \n",
      "3                  79.212045                     22.922969   \n",
      "4                  84.852972                     31.720476   \n",
      "\n",
      "   Regents w/o Advanced % of cohort  Local % of cohort  \\\n",
      "0                         54.122160           2.015186   \n",
      "1                         59.803561           7.700610   \n",
      "2                         56.262886           6.844945   \n",
      "3                         56.285854           4.012185   \n",
      "4                         53.131572           2.050462   \n",
      "\n",
      "   Still Enrolled % of cohort  Dropped Out % of cohort  Year  \\\n",
      "0                    6.208211                 5.258830  2012   \n",
      "1                   12.036165                11.196999  2012   \n",
      "2                   11.854675                13.710869  2012   \n",
      "3                    7.330112                 8.607423  2012   \n",
      "4                    7.168296                 5.326816  2013   \n",
      "\n",
      "   Unemployment Rate      Race  Employment Rate  \n",
      "0                9.3     Asian        90.699997  \n",
      "1               15.5     Black        84.500000  \n",
      "2               12.7  Hispanic        87.300003  \n",
      "3                7.5     White        92.500000  \n",
      "4                7.4     Asian        92.599998  \n"
     ]
    }
   ],
   "source": [
    "nyc_unemploy['Year'] = nyc_unemploy['Year'].astype(int)\n",
    "final_df_race['Cohort Year'] = final_df_race['Cohort Year'].astype(int)\n",
    "\n",
    "merged_df = final_df_race.merge(nyc_unemploy, how='left', left_on=[\"Cohort Year\", \"Demographic Variable\"], right_on=[\"Year\",\"Race\"])\n",
    "\n",
    "merged_df['Employment Rate'] = 100 - merged_df['Unemployment Rate']\n",
    "\n",
    "print(merged_df.head())"
   ]
  },
  {
   "cell_type": "markdown",
   "metadata": {},
   "source": [
    "### Examine Correlation"
   ]
  },
  {
   "cell_type": "code",
   "execution_count": 23,
   "metadata": {},
   "outputs": [
    {
     "name": "stdout",
     "output_type": "stream",
     "text": [
      "Employment Rate                     1.000000\n",
      "Advanced Regents % of cohort        0.839221\n",
      "Total Regents % of cohort           0.761730\n",
      "Total Grads % of cohort             0.744228\n",
      "Cohort Year                         0.405411\n",
      "Year                                0.405411\n",
      "Still Enrolled % of cohort         -0.515279\n",
      "Regents w/o Advanced % of cohort   -0.619239\n",
      "Local % of cohort                  -0.784208\n",
      "Dropped Out % of cohort            -0.784327\n",
      "Unemployment Rate                  -1.000000\n",
      "Name: Employment Rate, dtype: float64\n"
     ]
    }
   ],
   "source": [
    "cor = merged_df.corr()\n",
    "cor.sort_values(by=['Employment Rate'], inplace = True, ascending=False)\n",
    "employ_corr = cor['Employment Rate']\n",
    "print(employ_corr)"
   ]
  },
  {
   "cell_type": "markdown",
   "metadata": {},
   "source": [
    "### Observation: Taking Advanced Regents and graduating high school demonstrates a positive correlation the employment rate (whereas race has little correlation)"
   ]
  },
  {
   "cell_type": "code",
   "execution_count": 24,
   "metadata": {},
   "outputs": [
    {
     "name": "stdout",
     "output_type": "stream",
     "text": [
      "Unemployment Rate                   1.000000\n",
      "Dropped Out % of cohort             0.784327\n",
      "Local % of cohort                   0.784208\n",
      "Regents w/o Advanced % of cohort    0.619239\n",
      "Still Enrolled % of cohort          0.515279\n",
      "Cohort Year                        -0.405411\n",
      "Year                               -0.405411\n",
      "Total Grads % of cohort            -0.744228\n",
      "Total Regents % of cohort          -0.761730\n",
      "Advanced Regents % of cohort       -0.839221\n",
      "Employment Rate                    -1.000000\n",
      "Name: Unemployment Rate, dtype: float64\n"
     ]
    }
   ],
   "source": [
    "cor.sort_values(by=['Unemployment Rate'], inplace = True, ascending=False)\n",
    "unemploy_corr = cor['Unemployment Rate']\n",
    "print(unemploy_corr)"
   ]
  },
  {
   "cell_type": "markdown",
   "metadata": {},
   "source": [
    "### Observation: Inversely, dropping out of high school has a positive correlation with the unemployment rate"
   ]
  }
 ],
 "metadata": {
  "kernelspec": {
   "display_name": "Python 3",
   "language": "python",
   "name": "python3"
  },
  "language_info": {
   "codemirror_mode": {
    "name": "ipython",
    "version": 3
   },
   "file_extension": ".py",
   "mimetype": "text/x-python",
   "name": "python",
   "nbconvert_exporter": "python",
   "pygments_lexer": "ipython3",
   "version": "3.7.4"
  }
 },
 "nbformat": 4,
 "nbformat_minor": 4
}
